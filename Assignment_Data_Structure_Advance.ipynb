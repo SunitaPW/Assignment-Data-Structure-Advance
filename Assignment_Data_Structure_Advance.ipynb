{
  "cells": [
    {
      "cell_type": "markdown",
      "metadata": {
        "id": "3slmn4RBCc-D"
      },
      "source": [
        "# Answer 1 :-  Python code to reverse a string.\n"
      ]
    },
    {
      "cell_type": "code",
      "execution_count": null,
      "metadata": {
        "colab": {
          "base_uri": "https://localhost:8080/",
          "height": 35
        },
        "id": "simMD3qlCMHR",
        "outputId": "1a703f03-1d7f-40e7-a1e0-86c649004d1f"
      },
      "outputs": [
        {
          "data": {
            "application/vnd.google.colaboratory.intrinsic+json": {
              "type": "string"
            },
            "text/plain": [
              "'scitylanA ataD'"
            ]
          },
          "execution_count": 2,
          "metadata": {},
          "output_type": "execute_result"
        }
      ],
      "source": [
        "# 1st way Python code to reverse a string\n",
        "\n",
        "string = \"Data Analytics\"\n",
        "string[::-1]"
      ]
    },
    {
      "cell_type": "code",
      "execution_count": null,
      "metadata": {
        "colab": {
          "base_uri": "https://localhost:8080/",
          "height": 35
        },
        "id": "mHbltU13NdZL",
        "outputId": "ff9a3acb-93ee-492c-9005-38abd538acfc"
      },
      "outputs": [
        {
          "data": {
            "application/vnd.google.colaboratory.intrinsic+json": {
              "type": "string"
            },
            "text/plain": [
              "'sllikswP'"
            ]
          },
          "execution_count": 28,
          "metadata": {},
          "output_type": "execute_result"
        }
      ],
      "source": [
        "string = \"Pwskills\"\n",
        "string[::-1]"
      ]
    },
    {
      "cell_type": "code",
      "execution_count": null,
      "metadata": {
        "id": "Lo_VdWgQkhOQ"
      },
      "outputs": [],
      "source": [
        "# 2nd way python code to reverse a string\n",
        "\n",
        "def reverse_string(s):\n",
        "    strings = \"\"\n",
        "    for i in s[::-1]:\n",
        "        strings += i\n",
        "    return strings\n"
      ]
    },
    {
      "cell_type": "code",
      "execution_count": null,
      "metadata": {
        "colab": {
          "base_uri": "https://localhost:8080/",
          "height": 35
        },
        "id": "GGo5IaYekzz9",
        "outputId": "ffde4202-7c8d-498a-8b54-b2884d421768"
      },
      "outputs": [
        {
          "data": {
            "application/vnd.google.colaboratory.intrinsic+json": {
              "type": "string"
            },
            "text/plain": [
              "'scitylanA ataD'"
            ]
          },
          "execution_count": 9,
          "metadata": {},
          "output_type": "execute_result"
        }
      ],
      "source": [
        "reverse_string(\"Data Analytics\")"
      ]
    },
    {
      "cell_type": "code",
      "execution_count": null,
      "metadata": {
        "colab": {
          "base_uri": "https://localhost:8080/",
          "height": 35
        },
        "id": "VO9AogT4G45x",
        "outputId": "eabaef44-eb22-4ce2-d35d-7d46cec6516b"
      },
      "outputs": [
        {
          "data": {
            "application/vnd.google.colaboratory.intrinsic+json": {
              "type": "string"
            },
            "text/plain": [
              "'sllikswP'"
            ]
          },
          "execution_count": 10,
          "metadata": {},
          "output_type": "execute_result"
        }
      ],
      "source": [
        "reverse_string(\"Pwskills\")"
      ]
    },
    {
      "cell_type": "markdown",
      "metadata": {
        "id": "fGfkX9ricgPg"
      },
      "source": [
        "# Answer 2 :- Write a code to count the number of vowels in a string"
      ]
    },
    {
      "cell_type": "code",
      "execution_count": null,
      "metadata": {
        "id": "ySz1T3wqcITA"
      },
      "outputs": [],
      "source": [
        "# function name will be count_vowels(string)\n",
        "# vowels = \"aeiouAEIOU\"\n",
        "# count = 0\n",
        "\n",
        "def count_vowels(string):\n",
        "    vowels = \"aeiouAEIOU\"\n",
        "    count = 0\n",
        "    for character in string:\n",
        "        if character in vowels:\n",
        "            count += 1\n",
        "    return count"
      ]
    },
    {
      "cell_type": "code",
      "execution_count": null,
      "metadata": {
        "colab": {
          "base_uri": "https://localhost:8080/"
        },
        "id": "Pke8NPAwHuWC",
        "outputId": "05857c42-602c-4e13-93d7-26fd3f6a7f8d"
      },
      "outputs": [
        {
          "data": {
            "text/plain": [
              "9"
            ]
          },
          "execution_count": 13,
          "metadata": {},
          "output_type": "execute_result"
        }
      ],
      "source": [
        "count_vowels(\"Hello, How are you doing?\")"
      ]
    },
    {
      "cell_type": "code",
      "execution_count": null,
      "metadata": {
        "colab": {
          "base_uri": "https://localhost:8080/"
        },
        "id": "uQhiZ9rAH1Wq",
        "outputId": "d8878d4c-ed31-4d97-c7d8-9285fedea7e4"
      },
      "outputs": [
        {
          "data": {
            "text/plain": [
              "5"
            ]
          },
          "execution_count": 14,
          "metadata": {},
          "output_type": "execute_result"
        }
      ],
      "source": [
        "count_vowels(\"Data Analytics\")"
      ]
    },
    {
      "cell_type": "markdown",
      "metadata": {
        "id": "zoSzlZ3PI2bc"
      },
      "source": [
        "# Answer 3 :- Python code to check if a given string is a palindrome or not"
      ]
    },
    {
      "cell_type": "code",
      "execution_count": null,
      "metadata": {
        "colab": {
          "base_uri": "https://localhost:8080/"
        },
        "id": "73Q8p8uOIEeS",
        "outputId": "6b3c2283-db35-4b84-ab3c-424f69315e2a"
      },
      "outputs": [
        {
          "name": "stdout",
          "output_type": "stream",
          "text": [
            "Enter_a_string: Hello\n",
            "It is not a palindrome String\n"
          ]
        }
      ],
      "source": [
        "# original_string is a 1st variable to take input of a given string.\n",
        "# reverse_string is a 2nd variable to using string slicing to get reverse condition of input\n",
        "# Applying the conditions of == with if and else to check if the given string is a palindrome or not\n",
        "# Print statement to mention the given string is palindrome or not\n",
        "\n",
        "original_string = input(\"Enter_a_string: \")\n",
        "reverse_string = original_string[: : -1]\n",
        "if (original_string == reverse_string):\n",
        "  print(\"It is a palindrome String\")\n",
        "else:\n",
        "  print(\"It is not a palindrome String\")"
      ]
    },
    {
      "cell_type": "code",
      "execution_count": null,
      "metadata": {
        "colab": {
          "base_uri": "https://localhost:8080/"
        },
        "id": "If47R4DmLyN-",
        "outputId": "5cbb81f9-8c1e-4ce4-89f0-1468e10e0999"
      },
      "outputs": [
        {
          "name": "stdout",
          "output_type": "stream",
          "text": [
            "Enter_a_string: wow\n",
            "It is a palindrome String\n"
          ]
        }
      ],
      "source": [
        "original_string = input(\"Enter_a_string: \")\n",
        "reverse_string = original_string[: : -1]\n",
        "if (original_string == reverse_string):\n",
        "  print(\"It is a palindrome String\")\n",
        "else:\n",
        "  print(\"It is not a palindrome String\")"
      ]
    },
    {
      "cell_type": "markdown",
      "metadata": {
        "id": "PY1BY54lMcRm"
      },
      "source": [
        "# Answer 4 :- Python code to check if two given strings are anagrams for each other\n"
      ]
    },
    {
      "cell_type": "code",
      "execution_count": null,
      "metadata": {
        "id": "I4Y-RBnRRx7L"
      },
      "outputs": [],
      "source": [
        "# Created a own function using def and function name is string_are_anagrams\n",
        "# applied the replace() to remove space and lower() function to make string lower case\n",
        "# applied if and else, sorted with == condition to check the the character are similar and equal\n",
        "# printed the result if strings are anagrams or not.\n",
        "\n",
        "def string_are_anagrams(string1, string2):\n",
        "  string1 = string1.replace(\" \", \"\").lower()\n",
        "  string2 = string2.replace(\" \", \"\").lower()\n",
        "\n",
        "  if sorted(string1) == sorted(string2):\n",
        "    print (f\"{string1} and {string2} is a anagram.\")\n",
        "  else:\n",
        "    print (f\"{string1} and {string2} is not a anagram.\")\n",
        "\n",
        "\n"
      ]
    },
    {
      "cell_type": "code",
      "execution_count": null,
      "metadata": {
        "colab": {
          "base_uri": "https://localhost:8080/"
        },
        "id": "gnkSZv1tRx1N",
        "outputId": "fdaf478d-4424-4531-eeb1-33e67dd72193"
      },
      "outputs": [
        {
          "name": "stdout",
          "output_type": "stream",
          "text": [
            "listen and silent is a anagram.\n"
          ]
        }
      ],
      "source": [
        "string_are_anagrams(\"Listen\", \"Silent\")"
      ]
    },
    {
      "cell_type": "code",
      "execution_count": null,
      "metadata": {
        "colab": {
          "base_uri": "https://localhost:8080/"
        },
        "id": "9yQTrNmmRxwZ",
        "outputId": "f2cccc07-0265-479b-93a8-10d146bf3fc4"
      },
      "outputs": [
        {
          "name": "stdout",
          "output_type": "stream",
          "text": [
            "ram and shyam is not a anagram.\n"
          ]
        }
      ],
      "source": [
        "string_are_anagrams(\"Ram\", \"Shyam\")"
      ]
    },
    {
      "cell_type": "code",
      "execution_count": null,
      "metadata": {
        "colab": {
          "base_uri": "https://localhost:8080/"
        },
        "id": "rKkkVPxKTNAZ",
        "outputId": "fbefdf64-de77-4d39-a54f-edc759aa33e1"
      },
      "outputs": [
        {
          "name": "stdout",
          "output_type": "stream",
          "text": [
            "wow and act is not a anagram.\n"
          ]
        }
      ],
      "source": [
        "string_are_anagrams(\"wow\", \"act\")"
      ]
    },
    {
      "cell_type": "markdown",
      "metadata": {
        "id": "HjYJryb3Wzel"
      },
      "source": [
        "# Answer 5 :- Python code to find all occurrences of a given substring with another string."
      ]
    },
    {
      "cell_type": "code",
      "execution_count": null,
      "metadata": {
        "id": "fqbdS6CeUA1-"
      },
      "outputs": [],
      "source": [
        "# Created a python code to find all occurrences of given substring with another string\n",
        "\n",
        "\n",
        "\n",
        "def find_occurrences(main_string, substring):\n",
        "    occurrences = []\n",
        "    sub_len = len(substring)\n",
        "    main_len = len(main_string)\n",
        "\n",
        "    for i in range(main_len - sub_len + 1):\n",
        "        if main_string[i:i + sub_len] == substring:\n",
        "            occurrences.append(i)\n",
        "\n",
        "    return occurrences\n",
        "\n"
      ]
    },
    {
      "cell_type": "code",
      "execution_count": null,
      "metadata": {
        "colab": {
          "base_uri": "https://localhost:8080/"
        },
        "id": "PQeXf93PaNAr",
        "outputId": "dc90f6ac-f050-4907-8894-0ef3c06c442d"
      },
      "outputs": [
        {
          "name": "stdout",
          "output_type": "stream",
          "text": [
            "The substring 'a' occurs at indices: [1, 3, 5, 7]\n"
          ]
        }
      ],
      "source": [
        "\n",
        "main_string = \"data analytics from pwskills\"\n",
        "substring = \"a\"\n",
        "result = find_occurrences(main_string, substring)\n",
        "print(f\"The substring '{substring}' occurs at indices: {result}\")\n",
        "\n"
      ]
    },
    {
      "cell_type": "markdown",
      "metadata": {
        "id": "xpFvwPeUZd2z"
      },
      "source": [
        "# Answer 6 :- Python code to perform a basic string compression using the count of repeated character."
      ]
    },
    {
      "cell_type": "code",
      "execution_count": null,
      "metadata": {
        "id": "tFR5z1SJZcc9"
      },
      "outputs": [],
      "source": [
        "# Python code to perform a basic string compression using the count of repeated character.\n",
        "# 1st step - Create a empty string for the result\n",
        "# 2nd step - code to intialize the count of the first character\n",
        "# 3rd step - create own function\n",
        "# 4th step - Iterate overt the string from the second char.\n",
        "# 5th step - applied append function to the last character and its count\n",
        "# 6th step - return the compressed string if it's shorter than the original, otherwise return the original string\n",
        "\n",
        "\n",
        "def compress_string(s):\n",
        "    if not s:\n",
        "        return s\n",
        "\n",
        "\n",
        "    compressed_string = \"\"\n",
        "    count = 1\n",
        "\n",
        "\n",
        "    for i in range(1, len(s)):\n",
        "        if s[i] == s[i - 1]:\n",
        "            count += 1\n",
        "        else:\n",
        "            compressed_string += s[i - 1] + str(count)\n",
        "            count = 1\n",
        "\n",
        "\n",
        "    compressed_string += s[-1] + str(count)\n",
        "\n",
        "    return compressed_string if len(compressed_string) < len(s) else s\n"
      ]
    },
    {
      "cell_type": "code",
      "execution_count": null,
      "metadata": {
        "colab": {
          "base_uri": "https://localhost:8080/"
        },
        "id": "QsB66LIrTc7J",
        "outputId": "c09594e4-9089-4241-8c93-7ca7636a3ae3"
      },
      "outputs": [
        {
          "name": "stdout",
          "output_type": "stream",
          "text": [
            "a7b2c3a3j1d1j1d1a5o5\n"
          ]
        }
      ],
      "source": [
        "input_string = \"aaaaaaabbcccaaajdjdaaaaaooooo\"\n",
        "compressed_string = compress_string(input_string)\n",
        "print(compressed_string)"
      ]
    },
    {
      "cell_type": "markdown",
      "metadata": {
        "id": "7K8YpUqlckJL"
      },
      "source": [
        "# Answer 7 :- Write a code to determine if a string has all unique characters ?"
      ]
    },
    {
      "cell_type": "code",
      "execution_count": null,
      "metadata": {
        "id": "pr6Egjm2ZcWY"
      },
      "outputs": [],
      "source": [
        "# Created a code to determine if a string has all unique characters\n",
        "# 1st step - create def function for unique characters\n",
        "# 2nd step - use set() function to an empty set to track repeat characters\n",
        "# 3rd step - apply for loop function to check if a character is in repeat character then give false,\n",
        "#            and Add the character to the set if its not repeated give true.\n",
        "\n",
        "\n",
        "\n",
        "def unique_characters(string):\n",
        "    repeat_char = set()\n",
        "    for char in string:\n",
        "        if char in repeat_char:\n",
        "            return False\n",
        "        repeat_char.add(char)\n",
        "    return True"
      ]
    },
    {
      "cell_type": "code",
      "execution_count": null,
      "metadata": {
        "colab": {
          "base_uri": "https://localhost:8080/"
        },
        "id": "a_Y2BoiCZcTo",
        "outputId": "64646a0f-0839-47c6-c1b3-07acff3280c6"
      },
      "outputs": [
        {
          "data": {
            "text/plain": [
              "False"
            ]
          },
          "execution_count": 26,
          "metadata": {},
          "output_type": "execute_result"
        }
      ],
      "source": [
        "unique_characters(\"Data Analytics\")"
      ]
    },
    {
      "cell_type": "code",
      "execution_count": null,
      "metadata": {
        "colab": {
          "base_uri": "https://localhost:8080/"
        },
        "id": "zuNyDIdDUyOj",
        "outputId": "cf8a1f91-b1ca-49f4-97c8-3e31ba476700"
      },
      "outputs": [
        {
          "data": {
            "text/plain": [
              "False"
            ]
          },
          "execution_count": 19,
          "metadata": {},
          "output_type": "execute_result"
        }
      ],
      "source": [
        "unique_characters(\"Pwskills\")"
      ]
    },
    {
      "cell_type": "code",
      "execution_count": null,
      "metadata": {
        "colab": {
          "base_uri": "https://localhost:8080/"
        },
        "id": "DHyA6wNYU1EG",
        "outputId": "679096f1-3913-460a-a17e-d80eeee4a856"
      },
      "outputs": [
        {
          "data": {
            "text/plain": [
              "True"
            ]
          },
          "execution_count": 20,
          "metadata": {},
          "output_type": "execute_result"
        }
      ],
      "source": [
        "unique_characters(\"Ram\")"
      ]
    },
    {
      "cell_type": "code",
      "execution_count": null,
      "metadata": {
        "colab": {
          "base_uri": "https://localhost:8080/"
        },
        "id": "FhuDuolcU9CH",
        "outputId": "02470630-70b3-4bf6-cdfe-fccc865f238a"
      },
      "outputs": [
        {
          "data": {
            "text/plain": [
              "True"
            ]
          },
          "execution_count": 21,
          "metadata": {},
          "output_type": "execute_result"
        }
      ],
      "source": [
        "unique_characters(\"Sunita\")"
      ]
    },
    {
      "cell_type": "markdown",
      "metadata": {
        "id": "CwvIqoHRc3pB"
      },
      "source": [
        "# Answer 8 :- Write a code to convert a given string to uppercase or lowercase ?"
      ]
    },
    {
      "cell_type": "code",
      "execution_count": null,
      "metadata": {
        "id": "sbJscwbUZcRJ"
      },
      "outputs": [],
      "source": [
        "# Created a code to convert a given string to uppercase or lowercase\n",
        "\n",
        "\n",
        "def new_string(s):\n",
        "  for i in s:\n",
        "    if i.islower():\n",
        "      return s.upper()\n",
        "  for i in s:\n",
        "    if i.isupper():\n",
        "      return s.lower()\n",
        "\n"
      ]
    },
    {
      "cell_type": "code",
      "execution_count": null,
      "metadata": {
        "colab": {
          "base_uri": "https://localhost:8080/",
          "height": 35
        },
        "id": "F4x9w4ZJZcOv",
        "outputId": "24fb6b47-6210-483e-ad07-bf579f32ae4e"
      },
      "outputs": [
        {
          "data": {
            "application/vnd.google.colaboratory.intrinsic+json": {
              "type": "string"
            },
            "text/plain": [
              "'SUNITA KUMARI'"
            ]
          },
          "execution_count": 40,
          "metadata": {},
          "output_type": "execute_result"
        }
      ],
      "source": [
        "new_string(\"Sunita Kumari\")"
      ]
    },
    {
      "cell_type": "code",
      "execution_count": null,
      "metadata": {
        "colab": {
          "base_uri": "https://localhost:8080/",
          "height": 35
        },
        "id": "XmiNpieYX6lU",
        "outputId": "650168a2-83dd-4775-db46-9c3b22df7fcf"
      },
      "outputs": [
        {
          "data": {
            "application/vnd.google.colaboratory.intrinsic+json": {
              "type": "string"
            },
            "text/plain": [
              "'DATA ANALYTICS'"
            ]
          },
          "execution_count": 30,
          "metadata": {},
          "output_type": "execute_result"
        }
      ],
      "source": [
        "new_string(\"data analytics\")"
      ]
    },
    {
      "cell_type": "code",
      "execution_count": null,
      "metadata": {
        "colab": {
          "base_uri": "https://localhost:8080/",
          "height": 35
        },
        "id": "kt2-ZZq7YCnP",
        "outputId": "7e34f4da-d676-4b9e-96ea-0e991817e4c1"
      },
      "outputs": [
        {
          "data": {
            "application/vnd.google.colaboratory.intrinsic+json": {
              "type": "string"
            },
            "text/plain": [
              "'pwskills'"
            ]
          },
          "execution_count": 41,
          "metadata": {},
          "output_type": "execute_result"
        }
      ],
      "source": [
        "new_string(\"PWSKILLS\")"
      ]
    },
    {
      "cell_type": "code",
      "execution_count": null,
      "metadata": {
        "colab": {
          "base_uri": "https://localhost:8080/",
          "height": 35
        },
        "id": "1Y50BlzAY9sh",
        "outputId": "ea004e7b-f108-40c7-be1a-b02f4baee8cf"
      },
      "outputs": [
        {
          "data": {
            "application/vnd.google.colaboratory.intrinsic+json": {
              "type": "string"
            },
            "text/plain": [
              "'APPLE'"
            ]
          },
          "execution_count": 42,
          "metadata": {},
          "output_type": "execute_result"
        }
      ],
      "source": [
        "new_string(\"ApPlE\")"
      ]
    },
    {
      "cell_type": "markdown",
      "metadata": {
        "id": "oczAxKq5dHgl"
      },
      "source": [
        "# Answer 9 :- Code to count the numbers of words in a string"
      ]
    },
    {
      "cell_type": "code",
      "execution_count": null,
      "metadata": {
        "id": "mNmIMdZzZcL7"
      },
      "outputs": [],
      "source": [
        "# Created a code to count the numbers of words in a string\n",
        "# created a function with def\n",
        "# created empty variable\n",
        "# used split function to to separate string word then used length function to return the result\n",
        "\n",
        "def count_string_word(s):\n",
        "  count = 0\n",
        "  words = s.split()\n",
        "  return len(words)\n"
      ]
    },
    {
      "cell_type": "code",
      "execution_count": null,
      "metadata": {
        "colab": {
          "base_uri": "https://localhost:8080/"
        },
        "id": "98I6Pl54OjjJ",
        "outputId": "e8f66cb4-470e-4288-9b1c-bb68fc0821d1"
      },
      "outputs": [
        {
          "data": {
            "text/plain": [
              "2"
            ]
          },
          "execution_count": 17,
          "metadata": {},
          "output_type": "execute_result"
        }
      ],
      "source": [
        "count_string_word(\"Data Analytics\")"
      ]
    },
    {
      "cell_type": "code",
      "execution_count": null,
      "metadata": {
        "colab": {
          "base_uri": "https://localhost:8080/"
        },
        "id": "bYmaD5adOtI6",
        "outputId": "c7cf69d2-75a4-4b2f-d6e8-e621adf596de"
      },
      "outputs": [
        {
          "data": {
            "text/plain": [
              "14"
            ]
          },
          "execution_count": 18,
          "metadata": {},
          "output_type": "execute_result"
        }
      ],
      "source": [
        "count_string_word(\"My name is Sunita, Currently I'm doing an data analytics online course from PWskills\")"
      ]
    },
    {
      "cell_type": "code",
      "execution_count": null,
      "metadata": {
        "colab": {
          "base_uri": "https://localhost:8080/"
        },
        "id": "YLw3K5wmQWYP",
        "outputId": "86d09955-66ce-47a7-d63f-9913529b42e0"
      },
      "outputs": [
        {
          "data": {
            "text/plain": [
              "7"
            ]
          },
          "execution_count": 19,
          "metadata": {},
          "output_type": "execute_result"
        }
      ],
      "source": [
        "count_string_word(\"Currently I'm doing assignment of data structure\")"
      ]
    },
    {
      "cell_type": "markdown",
      "metadata": {
        "id": "8NuGgSYhdbLH"
      },
      "source": [
        "# Answer 10 :- Code to concatenate two string without using + operator"
      ]
    },
    {
      "cell_type": "code",
      "execution_count": null,
      "metadata": {
        "id": "ErXa4tnfZcG1"
      },
      "outputs": [],
      "source": [
        "# created code to concatenate two string with using join operator\n",
        "\n",
        "def concatenated_string(s1, s2):\n",
        "  return \"\".join([s1, s2])"
      ]
    },
    {
      "cell_type": "code",
      "execution_count": null,
      "metadata": {
        "colab": {
          "base_uri": "https://localhost:8080/",
          "height": 35
        },
        "id": "XGBc9PkBZcD4",
        "outputId": "3950afb8-fc8f-458a-9c96-07bbd4d2fec1"
      },
      "outputs": [
        {
          "data": {
            "application/vnd.google.colaboratory.intrinsic+json": {
              "type": "string"
            },
            "text/plain": [
              "'Sunita Kumari'"
            ]
          },
          "execution_count": 27,
          "metadata": {},
          "output_type": "execute_result"
        }
      ],
      "source": [
        "concatenated_string(\"Sunita\", \" Kumari\")"
      ]
    },
    {
      "cell_type": "code",
      "execution_count": null,
      "metadata": {
        "colab": {
          "base_uri": "https://localhost:8080/",
          "height": 35
        },
        "id": "VvIgB6zJSRL1",
        "outputId": "b2a4b3bf-8e62-4dbe-cb3e-a63ff9f528b8"
      },
      "outputs": [
        {
          "data": {
            "application/vnd.google.colaboratory.intrinsic+json": {
              "type": "string"
            },
            "text/plain": [
              "'Data Analytics course from PWskills'"
            ]
          },
          "execution_count": 28,
          "metadata": {},
          "output_type": "execute_result"
        }
      ],
      "source": [
        "concatenated_string(\"Data Analytics\", \" course from PWskills\")"
      ]
    },
    {
      "cell_type": "markdown",
      "metadata": {
        "id": "uaqEzM8ud2Yl"
      },
      "source": [
        "# Answer 11 :- Code to remove all the occurrences of a specific element from a list"
      ]
    },
    {
      "cell_type": "code",
      "execution_count": null,
      "metadata": {
        "id": "M5zp1dneZcA8"
      },
      "outputs": [],
      "source": [
        "# Code to remove all the occurrences of a specific element from a list\n",
        "# Used def function with for, append and if to get result.\n",
        "\n",
        "def remove_element(lst, element):\n",
        "    result = []\n",
        "    for item in lst:\n",
        "        if item != element:\n",
        "            result.append(item)\n",
        "    return result"
      ]
    },
    {
      "cell_type": "code",
      "execution_count": null,
      "metadata": {
        "colab": {
          "base_uri": "https://localhost:8080/"
        },
        "id": "HVkpa3ecZb-E",
        "outputId": "18f67b38-532c-461e-c0f9-337654bb7a86"
      },
      "outputs": [
        {
          "data": {
            "text/plain": [
              "[1, 2, 4, 5, 6, 7, 8, 9]"
            ]
          },
          "execution_count": 40,
          "metadata": {},
          "output_type": "execute_result"
        }
      ],
      "source": [
        "l = [1, 3, 3, 2, 4, 3, 5, 3, 6, 7, 8, 3, 3, 9]\n",
        "element_to_remove = 3\n",
        "result = remove_element(l, element_to_remove)\n",
        "result"
      ]
    },
    {
      "cell_type": "markdown",
      "metadata": {
        "id": "uk5dtz3neHnP"
      },
      "source": [
        "# Answer 12 :- Code to find the second largest number in a given list of integers"
      ]
    },
    {
      "cell_type": "code",
      "execution_count": null,
      "metadata": {
        "id": "_SW9CCDrZb68"
      },
      "outputs": [],
      "source": [
        "# Implimented a code to find the second largest number in a given list of integers\n",
        "\n",
        "def second_larg(list):\n",
        "  list.sort()\n",
        "  return list[-2]"
      ]
    },
    {
      "cell_type": "code",
      "execution_count": null,
      "metadata": {
        "colab": {
          "base_uri": "https://localhost:8080/"
        },
        "id": "izprY9AtZb3r",
        "outputId": "e9f8838d-120b-4258-a8e1-f8156f48ba83"
      },
      "outputs": [
        {
          "data": {
            "text/plain": [
              "15"
            ]
          },
          "execution_count": 42,
          "metadata": {},
          "output_type": "execute_result"
        }
      ],
      "source": [
        "second_larg([1, 2, 3, 4, 5, 6, 7, 8, 9, 10, 11, 15, 30])"
      ]
    },
    {
      "cell_type": "markdown",
      "metadata": {
        "id": "tSMc6RhQeZyo"
      },
      "source": [
        "# Answer 13 :- Code  to count the occurrence of each elemenet in a list and return a dictionary with elements as keys and their count as a value"
      ]
    },
    {
      "cell_type": "code",
      "execution_count": null,
      "metadata": {
        "id": "gZdCDlrnZb0o"
      },
      "outputs": [],
      "source": [
        "# Created a code to count the occurrence of each elemenet in a list and return a dictionary with elements as keys and their count as a value\n",
        "# used def function to create\n",
        "# put an empty {} dictionary to give result\n",
        "# used for, if and else function\n",
        "\n",
        "def count_occurrence(l):\n",
        "  count = {}\n",
        "  for i in l:\n",
        "    if i in count:\n",
        "      count[i] += 1\n",
        "    else:\n",
        "      count[i] = 1\n",
        "  return count\n"
      ]
    },
    {
      "cell_type": "code",
      "execution_count": null,
      "metadata": {
        "colab": {
          "base_uri": "https://localhost:8080/"
        },
        "id": "iQr0OGDNfAv3",
        "outputId": "a516aba0-05af-4ffb-dabf-7701e59c8f42"
      },
      "outputs": [
        {
          "name": "stdout",
          "output_type": "stream",
          "text": [
            "{1: 1, 2: 4, 3: 4, 4: 3, 5: 2, 6: 4}\n"
          ]
        }
      ],
      "source": [
        "l = [1, 2, 3, 2, 4, 2, 5, 3, 4, 5, 6, 3, 6, 6, 6, 3, 4, 2]\n",
        "result = count_occurrence(my_list)\n",
        "print(result)"
      ]
    },
    {
      "cell_type": "markdown",
      "metadata": {
        "id": "_nNcJkSWe63Y"
      },
      "source": [
        "# Answer 14 :- Code to reverse a list in-place without using any inbuilt reverse function"
      ]
    },
    {
      "cell_type": "code",
      "execution_count": null,
      "metadata": {
        "id": "FQxxbHyNebr2"
      },
      "outputs": [],
      "source": [
        "# code to reverse a list in-place without using any inbuilt reverse function\n",
        "# used def reverse_list function to reverse the list\n",
        "\n",
        "\n",
        "def reverse_list(l):\n",
        "  start = 0\n",
        "  end = len(l) -1\n",
        "  while start < end:\n",
        "    l[start], l[end] = l[end], l[start]\n",
        "    start += 1\n",
        "    end -= 1\n",
        "  return l"
      ]
    },
    {
      "cell_type": "code",
      "execution_count": null,
      "metadata": {
        "colab": {
          "base_uri": "https://localhost:8080/"
        },
        "id": "s5v_mM9Eebpt",
        "outputId": "97fbf995-8c6b-4fe4-ae3d-2714336f41a9"
      },
      "outputs": [
        {
          "data": {
            "text/plain": [
              "[10, 9, 8, 7, 6, 5, 4, 3, 2, 1]"
            ]
          },
          "execution_count": 60,
          "metadata": {},
          "output_type": "execute_result"
        }
      ],
      "source": [
        "my_list = [1, 2, 3, 4, 5, 6, 7, 8, 9, 10]\n",
        "reversed_list = reverse_list(my_list)\n",
        "reversed_list"
      ]
    },
    {
      "cell_type": "markdown",
      "metadata": {
        "id": "JEayE6GsfPv4"
      },
      "source": [
        "# Answer 15 :- Code to find and remove duplicates from a list while preserving the originals order of the elements"
      ]
    },
    {
      "cell_type": "code",
      "execution_count": null,
      "metadata": {
        "id": "QFXP7r_KkrN1"
      },
      "outputs": [],
      "source": [
        "# Implimented a code to find and remove duplicates from a list while preserving the originals order of the elements\n",
        "# used def with dictionary to track the elements/values which have been seen\n",
        "# used for, if function and append function to get the result\n",
        "\n",
        "\n",
        "def remove_duplicates(l):\n",
        "    dictionary = {}\n",
        "    result = []\n",
        "\n",
        "    for item in l:\n",
        "        if item not in dictionary:\n",
        "            dictionary [item] = True\n",
        "            result.append(item)\n",
        "\n",
        "    return result\n"
      ]
    },
    {
      "cell_type": "code",
      "execution_count": null,
      "metadata": {
        "colab": {
          "base_uri": "https://localhost:8080/"
        },
        "id": "W28eS8OIlKKB",
        "outputId": "6624cdf1-c185-4422-f394-54c11808bf14"
      },
      "outputs": [
        {
          "name": "stdout",
          "output_type": "stream",
          "text": [
            "[1, 2, 3, 4, 5, 6, 7, 8, 9, 10]\n"
          ]
        }
      ],
      "source": [
        "l = [1, 2, 3, 4, 5, 1, 6, 4, 7, 8, 9, 10, 3, 3, 3]\n",
        "result = remove_duplicates(l)\n",
        "print(result)\n"
      ]
    },
    {
      "cell_type": "markdown",
      "metadata": {
        "id": "1FlE1chefiko"
      },
      "source": [
        "# Answer 16 :- Code to check if a given list is sorted (either ascending order or descending order) or not"
      ]
    },
    {
      "cell_type": "code",
      "execution_count": null,
      "metadata": {
        "id": "RhGvuXc9ebiR"
      },
      "outputs": [],
      "source": [
        "# Created a code to check if a given list is sorted (either ascending order or descending order) or not\n",
        "# used def to create a function\n",
        "# used range and length  function\n",
        "\n",
        "def list_is_sorted(l):\n",
        "  if len(l) < 2:\n",
        "        return True\n",
        "\n",
        "\n",
        "  ascending = True\n",
        "  descending = True\n",
        "\n",
        "  for i in range(1, len(l)):\n",
        "      if l[i] < l[i - 1]:\n",
        "            ascending = False\n",
        "      if l[i] > l[i - 1]:\n",
        "            descending = False\n",
        "\n",
        "  return ascending or descending"
      ]
    },
    {
      "cell_type": "code",
      "execution_count": null,
      "metadata": {
        "colab": {
          "base_uri": "https://localhost:8080/"
        },
        "id": "6ziqtIYjebf0",
        "outputId": "578fbe83-f4d4-4e69-9ad3-7e68af14056d"
      },
      "outputs": [
        {
          "data": {
            "text/plain": [
              "True"
            ]
          },
          "execution_count": 103,
          "metadata": {},
          "output_type": "execute_result"
        }
      ],
      "source": [
        "l = [1, 2, 9, 11, 15, 20]\n",
        "list_is_sorted(l)"
      ]
    },
    {
      "cell_type": "code",
      "execution_count": null,
      "metadata": {
        "colab": {
          "base_uri": "https://localhost:8080/"
        },
        "id": "0By6rZT-nhyb",
        "outputId": "1426a18c-7495-46fe-c3ea-4e1b0ba23bca"
      },
      "outputs": [
        {
          "data": {
            "text/plain": [
              "False"
            ]
          },
          "execution_count": 104,
          "metadata": {},
          "output_type": "execute_result"
        }
      ],
      "source": [
        "l = [20, 22, 30, 46, 40, 60, 90]\n",
        "list_is_sorted(l)"
      ]
    },
    {
      "cell_type": "code",
      "execution_count": null,
      "metadata": {
        "colab": {
          "base_uri": "https://localhost:8080/"
        },
        "id": "SfgLxW_VoEHB",
        "outputId": "a84330b8-375e-4d42-839e-76d730785a87"
      },
      "outputs": [
        {
          "data": {
            "text/plain": [
              "True"
            ]
          },
          "execution_count": 105,
          "metadata": {},
          "output_type": "execute_result"
        }
      ],
      "source": [
        "l = [100, 90, 89, 85, 73, 65, 20]\n",
        "list_is_sorted(l)"
      ]
    },
    {
      "cell_type": "markdown",
      "metadata": {
        "id": "RUhLxFQof9L1"
      },
      "source": [
        "# Answer 17 :- Code to merge two sorted list into single sorted list"
      ]
    },
    {
      "cell_type": "code",
      "execution_count": null,
      "metadata": {
        "id": "0WJ_SUAVrIW8"
      },
      "outputs": [],
      "source": [
        "# did some research and based on research merging two sorted list into single sorted list in a sort code with function heapq.\n",
        "\n",
        "import heapq\n",
        "\n",
        "def merge_two_sorted_lists(l1, l2):\n",
        "    return list(heapq.merge(l1, l2))\n"
      ]
    },
    {
      "cell_type": "code",
      "execution_count": null,
      "metadata": {
        "colab": {
          "base_uri": "https://localhost:8080/"
        },
        "id": "RSnWR-g7rITj",
        "outputId": "a4b2172f-ce50-449c-bb40-55c45f7cb1f2"
      },
      "outputs": [
        {
          "name": "stdout",
          "output_type": "stream",
          "text": [
            "[1, 2, 3, 4, 5, 6, 7, 8, 9, 10, 11, 12, 13, 14, 15, 16]\n"
          ]
        }
      ],
      "source": [
        "l1 = [1, 3, 5, 7, 9, 11, 13, 15]\n",
        "l2 = [2, 4, 6, 8, 10, 12, 14, 16]\n",
        "result = merge_two_sorted_lists(l1, l2)\n",
        "print(result)"
      ]
    },
    {
      "cell_type": "code",
      "execution_count": null,
      "metadata": {
        "id": "EpPdTO-DrIQq"
      },
      "outputs": [],
      "source": [
        "# 2nd way :- combined two sorted list into single sorted list using concatenate function\n",
        "\n",
        "def merge_two_sorted_lists(l1, l2):\n",
        "  return sorted(l1 + l2)"
      ]
    },
    {
      "cell_type": "code",
      "execution_count": null,
      "metadata": {
        "colab": {
          "base_uri": "https://localhost:8080/"
        },
        "id": "GJURIeJSrIN4",
        "outputId": "c36056c1-9f7d-4b14-d957-18d377d9f867"
      },
      "outputs": [
        {
          "name": "stdout",
          "output_type": "stream",
          "text": [
            "[1, 2, 3, 4, 5, 6, 7, 8, 9, 10, 11, 12, 13, 14, 15, 16]\n"
          ]
        }
      ],
      "source": [
        "l1 = [1, 3, 5, 7, 9, 11, 13, 15]\n",
        "l2 = [2, 4, 6, 8, 10, 12, 14, 16]\n",
        "result = merge_two_sorted_lists(l1, l2)\n",
        "print(result)"
      ]
    },
    {
      "cell_type": "markdown",
      "metadata": {
        "id": "E7Zt9B9agMAZ"
      },
      "source": [
        "# Answer 18 :- Code to find the intersection of two given list"
      ]
    },
    {
      "cell_type": "code",
      "execution_count": null,
      "metadata": {
        "id": "Xs8L-Ra1Fdpt"
      },
      "outputs": [],
      "source": [
        "# Implemented a code to find the intersection of two given list\n",
        "# using intersection operators  '&'\n",
        "\n",
        "def intersection_lists(l1, l2):\n",
        "  data1 = set(l1)\n",
        "  data2 = set(l2)\n",
        "\n",
        "  intersection = data1 & data2\n",
        "\n",
        "  return list(intersection)"
      ]
    },
    {
      "cell_type": "code",
      "execution_count": null,
      "metadata": {
        "colab": {
          "base_uri": "https://localhost:8080/"
        },
        "id": "KfKyEMXuF2mq",
        "outputId": "e246c7dc-e278-46b6-d9ba-2047e65bc408"
      },
      "outputs": [
        {
          "data": {
            "text/plain": [
              "[9, 4, 5, 6]"
            ]
          },
          "execution_count": 5,
          "metadata": {},
          "output_type": "execute_result"
        }
      ],
      "source": [
        "l1 = [1, 2, 3, 4, 5, 6, 9]\n",
        "l2 = [4, 5, 6, 7, 8, 9, 10]\n",
        "\n",
        "intersection_two_list = intersection_lists(l1, l2)\n",
        "intersection_two_list"
      ]
    },
    {
      "cell_type": "code",
      "execution_count": null,
      "metadata": {
        "id": "3DFzCJL5GB5t"
      },
      "outputs": [],
      "source": [
        "l1 = [1, 2, 3, 4, 5, 6]\n",
        "l2 = [4, 5, 6, 7, 8, 9]\n",
        "\n",
        "intersection_two_list = intersection_lists(l1, l2)\n",
        "intersection_two_list"
      ]
    },
    {
      "cell_type": "markdown",
      "metadata": {
        "id": "xTp2z3ZDgaiO"
      },
      "source": [
        "# Answer 19 :- Code to find the union of two lists without duplicates"
      ]
    },
    {
      "cell_type": "code",
      "execution_count": null,
      "metadata": {
        "id": "XgKO1-rzeadC"
      },
      "outputs": [],
      "source": [
        "# Create a code to find the union of two lists without duplicates\n",
        "# used union operate to get the result \"|\"\n",
        "\n",
        "def union_lists(l1, l2):\n",
        "  data1 = set(l1)\n",
        "  data2 = set(l2)\n",
        "\n",
        "  union = data1 | data2\n",
        "\n",
        "  return list(union)"
      ]
    },
    {
      "cell_type": "code",
      "execution_count": null,
      "metadata": {
        "colab": {
          "base_uri": "https://localhost:8080/"
        },
        "id": "RyVOF2_IgZu9",
        "outputId": "732dc3dc-caf7-4de2-a09c-679a7a9d63d9"
      },
      "outputs": [
        {
          "data": {
            "text/plain": [
              "['Travelling',\n",
              " 'Hiking',\n",
              " 'Fast food',\n",
              " 'Reading Books',\n",
              " 'Tracking',\n",
              " 'Cooking',\n",
              " 'Dancing',\n",
              " 'Painting']"
            ]
          },
          "execution_count": 8,
          "metadata": {},
          "output_type": "execute_result"
        }
      ],
      "source": [
        "Data1 = [\"Hiking\", \"Tracking\", \"Reading Books\", \"Travelling\", \"Cooking\"]\n",
        "Data2 = [\"Cooking\", \"Fast food\", \"Painting\", \"Dancing\", \"Reading Books\"]\n",
        "\n",
        "union_two_list = union_lists(Data1, Data2)\n",
        "union_two_list\n"
      ]
    },
    {
      "cell_type": "markdown",
      "metadata": {
        "id": "8AEa2RPQgoeJ"
      },
      "source": [
        "# Answer 20 :- Code to shuffle a given list randomly without using any built-in shuffle functions"
      ]
    },
    {
      "cell_type": "code",
      "execution_count": null,
      "metadata": {
        "colab": {
          "background_save": true
        },
        "id": "VJgcRms-gZrh"
      },
      "outputs": [],
      "source": [
        "# did some research for code to shuffle a given list randomly without using any built-in shuffle functions\n",
        "# used random function and import it\n",
        "# used shuffle function to get the result\n",
        "# applied length, range function also\n",
        "\n",
        "import random\n",
        "\n",
        "def shuffle_list(lst):\n",
        "\n",
        "    lst = lst[:]\n",
        "\n",
        "    n = len(lst)\n",
        "\n",
        "    for i in range(n - 1, 0, -1):\n",
        "        j = random.randint(0, i)\n",
        "\n",
        "        lst[i], lst[j] = lst[j], lst[i]\n",
        "\n",
        "    return lst\n"
      ]
    },
    {
      "cell_type": "code",
      "execution_count": null,
      "metadata": {
        "colab": {
          "base_uri": "https://localhost:8080/"
        },
        "id": "nDchmgfcgZo2",
        "outputId": "d1f41fe6-6370-494d-f491-4bedb95188e9"
      },
      "outputs": [
        {
          "name": "stdout",
          "output_type": "stream",
          "text": [
            "Original list: [1, 2, 3, 4, 5]\n",
            "Shuffled list: [4, 5, 2, 3, 1]\n"
          ]
        }
      ],
      "source": [
        "original_list = [1, 2, 3, 4, 5]\n",
        "shuffled_list = shuffle_list(original_list)\n",
        "print(\"Original list:\", original_list)\n",
        "print(\"Shuffled list:\", shuffled_list)\n"
      ]
    },
    {
      "cell_type": "markdown",
      "metadata": {
        "id": "i4kBUBYFhiBE"
      },
      "source": [
        "# Answer 21 :- write a code that take two tuples as input and return a new tuple containing elements that are common to both input tuples ?"
      ]
    },
    {
      "cell_type": "code",
      "execution_count": null,
      "metadata": {
        "id": "EFlTcLeKgZmN"
      },
      "outputs": [],
      "source": [
        "# code that take two tuples as input and return a new tuple containing elements that are common to both input tuples\n",
        "# used intersection '&' operator to get the result :-\n",
        "\n",
        "\n",
        "def tuples_common_elements(t1, t2):\n",
        "  return tuple(set(t1) & set(t2))"
      ]
    },
    {
      "cell_type": "code",
      "execution_count": null,
      "metadata": {
        "colab": {
          "base_uri": "https://localhost:8080/"
        },
        "id": "0zWnbA1NgZjd",
        "outputId": "afce6721-bb9a-490b-b053-a18be5314158"
      },
      "outputs": [
        {
          "data": {
            "text/plain": [
              "(4, 5, 6)"
            ]
          },
          "execution_count": 17,
          "metadata": {},
          "output_type": "execute_result"
        }
      ],
      "source": [
        "t1 = (1, 2, 3, 4, 5, 6, 9, 10)\n",
        "t2 = (4, 5, 6, 7, 8, 11, 13, 15)\n",
        "\n",
        "common_elements = tuples_common_elements(t1, t2)\n",
        "common_elements"
      ]
    },
    {
      "cell_type": "code",
      "execution_count": null,
      "metadata": {
        "colab": {
          "base_uri": "https://localhost:8080/"
        },
        "id": "ucMBPyUyRK8V",
        "outputId": "adaf85a5-a7b7-4a6b-f16c-9f0a51d7a4c5"
      },
      "outputs": [
        {
          "data": {
            "text/plain": [
              "(250, 123, 300)"
            ]
          },
          "execution_count": 18,
          "metadata": {},
          "output_type": "execute_result"
        }
      ],
      "source": [
        "t1 = (100, 50, 250, 300, 123, 150)\n",
        "t2 = (500, 250, 405, 123, 164, 300)\n",
        "\n",
        "common_elements = tuples_common_elements(t1, t2)\n",
        "common_elements"
      ]
    },
    {
      "cell_type": "markdown",
      "metadata": {
        "id": "eN_f58aGh5NW"
      },
      "source": [
        "# Answer 22 :- Create a code that prompt a user to enter two sets of integers seperated by commas. Then print the intersection of these two sets ?"
      ]
    },
    {
      "cell_type": "code",
      "execution_count": null,
      "metadata": {
        "colab": {
          "base_uri": "https://localhost:8080/"
        },
        "id": "XsH4429OgZg3",
        "outputId": "f4f8dda5-2661-4a7e-f96e-24ce138a4144"
      },
      "outputs": [
        {
          "name": "stdout",
          "output_type": "stream",
          "text": [
            "Enter the 1st set of integers separated by commas: 1, 2, 3, 4, 5, 6, 7\n",
            "Enter the 2nd set of integers separated by commas: 4, 5, 6, 7, 8, 9, 10\n",
            "Intersection of the two sets: {4, 5, 6, 7}\n"
          ]
        }
      ],
      "source": [
        "# Created a code that prompt a user to enter two sets of integers seperated by commas. Then print the intersection of these two sets\n",
        "# Used def function to get the main input\n",
        "# used input function to get data by user for 1st and 2nd integer list\n",
        "# used intersection operator '&' to get the intersection integer value\n",
        "\n",
        "def main_input():\n",
        "\n",
        "    first_input = input(\"Enter the 1st set of integers separated by commas: \")\n",
        "    set1 = set(map(int, first_input.split(',')))\n",
        "\n",
        "    second_input = input(\"Enter the 2nd set of integers separated by commas: \")\n",
        "    set2 = set(map(int, second_input.split(',')))\n",
        "\n",
        "    intersection = set1 & set2\n",
        "\n",
        "    print(\"Intersection of the two sets:\", intersection)\n",
        "\n",
        "if __name__ == \"__main__\":\n",
        "    main_input()\n"
      ]
    },
    {
      "cell_type": "markdown",
      "metadata": {
        "id": "dD-QlwStiVID"
      },
      "source": [
        "# Answer 23 :- Write a code to concatenate two tuples. The functions should take two tuples as input and return a new tuple containing elements from both inputs tuples ?"
      ]
    },
    {
      "cell_type": "code",
      "execution_count": 31,
      "metadata": {
        "id": "iMgPa6tNgZbT"
      },
      "outputs": [],
      "source": [
        "# Write a code to concatenate two tuples. The functions should take two tuples as input and return a new tuple containing elements from both inputs tuples\n",
        "# used def to create concat function\n",
        "# used concatenate function to + the two tuples to create one tuple\n",
        "\n",
        "\n",
        "def concat_two_tuples(t1, t2):\n",
        "\n",
        "  concatenate = t1 + t2\n",
        "\n",
        "  return concatenate"
      ]
    },
    {
      "cell_type": "code",
      "execution_count": null,
      "metadata": {
        "colab": {
          "base_uri": "https://localhost:8080/"
        },
        "id": "wqvTroOBgZYe",
        "outputId": "33b332d8-7fdd-46f5-ad30-127afc156981"
      },
      "outputs": [
        {
          "data": {
            "text/plain": [
              "(1, 2, 3, 4, 5, 6, 7, 8, 9, 10)"
            ]
          },
          "execution_count": 18,
          "metadata": {},
          "output_type": "execute_result"
        }
      ],
      "source": [
        "tuple1 = (1, 2, 3, 4, 5)\n",
        "tuple2 = (6, 7, 8, 9, 10)\n",
        "concat_two_tuples(tuple1, tuple2)\n"
      ]
    },
    {
      "cell_type": "markdown",
      "metadata": {
        "id": "5hdAW708iyCC"
      },
      "source": [
        "# Answer 24 :- Develope a code that prompt the user to input to sets of strings. Then print the elements that are present in the first set but not in the second set ?"
      ]
    },
    {
      "cell_type": "code",
      "execution_count": null,
      "metadata": {
        "colab": {
          "base_uri": "https://localhost:8080/"
        },
        "id": "jWe61bw9gZVp",
        "outputId": "cc79d899-bdfc-4d0d-f640-be9dfb979dfe"
      },
      "outputs": [
        {
          "name": "stdout",
          "output_type": "stream",
          "text": [
            "Enter the 1st set of strings separated by commas: Apple, Orange, Banana, Grapes, Yellow\n",
            "Enter the 2nd set of strings separated by commas: Blue, Red, Black, Orange, Yellow\n",
            "Elements present in the first set but not in the second set: {'Banana', 'Grapes', 'Apple'}\n"
          ]
        }
      ],
      "source": [
        "# Develope a code that prompt the user to input to sets of strings. Then print the elements that are present in the first set but not in the second set ?\n",
        "# Used def to create own function\n",
        "# used strip and 'in' function\n",
        "# used difference operator '-' to get the result\n",
        "\n",
        "\n",
        "def main_input_set():\n",
        "\n",
        "  first_input = input(\"Enter the 1st set of strings separated by commas: \")\n",
        "  set1 = set(s.strip() for s in first_input.split(','))\n",
        "\n",
        "  second_input = input(\"Enter the 2nd set of strings separated by commas: \")\n",
        "  set2 = set(s.strip() for s in second_input.split(','))\n",
        "\n",
        "  difference = set1 - set2\n",
        "\n",
        "  print(\"Elements present in the first set but not in the second set:\", difference)\n",
        "\n",
        "if __name__ == \"__main__\":\n",
        "    main_input_set()"
      ]
    },
    {
      "cell_type": "markdown",
      "metadata": {
        "id": "0hWZKp1ijI-H"
      },
      "source": [
        "# Answer 25 :- Code that takes tuple and two integers as input. The function should return a new tuples containing the elements from the original tuples within the specified range of indices"
      ]
    },
    {
      "cell_type": "code",
      "execution_count": 32,
      "metadata": {
        "id": "v6TM0KAsgZNQ",
        "colab": {
          "base_uri": "https://localhost:8080/"
        },
        "outputId": "b4deb770-ddc4-4351-f812-dee912a1ce91"
      },
      "outputs": [
        {
          "output_type": "stream",
          "name": "stdout",
          "text": [
            "Enter a tuple of elements separated by commas : 1, 2, 3, 4, 5, 6, 7, 8, 9, 10, 11, 12, 13, 14, 15\n",
            "Enter the start index (inclusive): 4\n",
            "Enter the end index (exclusive): 10\n",
            "The new tuple with elements in the specified range: (' 5', ' 6', ' 7', ' 8', ' 9', ' 10')\n"
          ]
        }
      ],
      "source": [
        "# Create a code that takes tuple and two integers as input. The function should return a new tuples containing the elements from the original tuples within the specified range of indices\n",
        "# used index slicing start index and end index point\n",
        "# used input function to take input from users\n",
        "\n",
        "\n",
        "def get_sliced_tuple(tup, start_index, end_index):\n",
        "\n",
        "    return tup[start_index : end_index]\n",
        "\n",
        "def main():\n",
        "\n",
        "    user_input = input(\"Enter a tuple of elements separated by commas : \")\n",
        "\n",
        "    elements = tuple(user_input.split(','))\n",
        "\n",
        "\n",
        "    start_idx = int(input(\"Enter the start index (inclusive): \"))\n",
        "    end_idx = int(input(\"Enter the end index (exclusive): \"))\n",
        "\n",
        "\n",
        "    result = get_sliced_tuple(elements, start_idx, end_idx)\n",
        "\n",
        "    print(\"The new tuple with elements in the specified range:\", result)\n",
        "\n",
        "if __name__ == \"__main__\":\n",
        "    main()\n"
      ]
    },
    {
      "cell_type": "markdown",
      "metadata": {
        "id": "0hojYGEjjoRh"
      },
      "source": [
        "# Answer 26 :- Code that prompt the user to input to sets of characters. Then print the union of these two sets"
      ]
    },
    {
      "cell_type": "code",
      "execution_count": 33,
      "metadata": {
        "id": "TtLrgS3lgZKb",
        "colab": {
          "base_uri": "https://localhost:8080/"
        },
        "outputId": "f4ea5214-80fe-489b-8fdb-b16e0d3b432e"
      },
      "outputs": [
        {
          "output_type": "stream",
          "name": "stdout",
          "text": [
            "Enter the 1st set of characters separated by commas: apple, oranges, mango\n",
            "Enter the 2nd set of characters separated by commas: mango, grapes, banana\n",
            "Union of the two sets: {'oranges', 'grapes', 'banana', 'apple', 'mango'}\n"
          ]
        }
      ],
      "source": [
        "# code that prompt the user to input to sets of characters. Then print the union of these two sets\n",
        "# used def function to create function\n",
        "# used union operator function '|' too get the result\n",
        "\n",
        "def sets_of_characters():\n",
        "\n",
        "  first_input = input(\"Enter the 1st set of characters separated by commas: \")\n",
        "  set1 = set(s.strip() for s in first_input.split(','))\n",
        "\n",
        "  second_input = input(\"Enter the 2nd set of characters separated by commas: \")\n",
        "  set2 = set(s.strip() for s in second_input.split(','))\n",
        "\n",
        "  union = set1 | set2\n",
        "\n",
        "  print(\"Union of the two sets:\", union)\n",
        "\n",
        "if __name__ == \"__main__\":\n",
        "  sets_of_characters()"
      ]
    },
    {
      "cell_type": "markdown",
      "metadata": {
        "id": "bU7TX8TOj9Lk"
      },
      "source": [
        "# Answer 27 :- Code that takes a tuple of integers as input. The function should return the maximum and minimum values from the tuple using tuple unpacking"
      ]
    },
    {
      "cell_type": "code",
      "execution_count": 35,
      "metadata": {
        "id": "gZWSFq7fgZEv",
        "colab": {
          "base_uri": "https://localhost:8080/"
        },
        "outputId": "eab764c4-af7f-4494-f891-4ded06a3dd2f"
      },
      "outputs": [
        {
          "output_type": "stream",
          "name": "stdout",
          "text": [
            "Enter a tuple of integers separated by commas : 15, 28, 44, 69, 10, 300, 350\n",
            "Maximum value: 350\n",
            "Minimum value: 10\n"
          ]
        }
      ],
      "source": [
        "# Develop a code that takes a tuple of integers as input. The function should return the maximum and minimum values from the tuple using tuple unpacking ?\n",
        "# used def for creating function\n",
        "# used tuple, split and map function for the elements\n",
        "# used the maximum and minimum function to calculate the values\n",
        "\n",
        "def main_output():\n",
        "\n",
        "    user_input = input(\"Enter a tuple of integers separated by commas : \")\n",
        "\n",
        "\n",
        "    elements = tuple(map(int, user_input.split(',')))\n",
        "\n",
        "\n",
        "    max_val = max(elements)\n",
        "    min_val = min(elements)\n",
        "\n",
        "    # Print the results\n",
        "    print(f\"Maximum value: {max_val}\")\n",
        "    print(f\"Minimum value: {min_val}\")\n",
        "\n",
        "if __name__ == \"__main__\":\n",
        "    main_output()\n"
      ]
    },
    {
      "cell_type": "markdown",
      "metadata": {
        "id": "fYrnmkNAkbiF"
      },
      "source": [
        "# Answer 28 :- Create a code that defines two sets of integers. Then print the union, intersection and difference of these two sets"
      ]
    },
    {
      "cell_type": "code",
      "execution_count": 36,
      "metadata": {
        "id": "Ek2gMcAKj8Kh",
        "colab": {
          "base_uri": "https://localhost:8080/"
        },
        "outputId": "0e0b67e8-fc6a-4861-872f-9a8b589a74fe"
      },
      "outputs": [
        {
          "output_type": "stream",
          "name": "stdout",
          "text": [
            "Data_Set 1: {1, 2, 3, 4, 5, 9, 10, 15, 20}\n",
            "Data_Set 2: {35, 4, 5, 6, 7, 8, 10, 25, 30}\n",
            "Union of the two Data_sets: {1, 2, 3, 4, 5, 35, 6, 7, 9, 10, 8, 15, 20, 25, 30}\n",
            "Intersection of the two Data_sets: {10, 4, 5}\n",
            "Difference of the two sets (Data_Set 1 - Data_Set 2): {1, 2, 3, 9, 15, 20}\n"
          ]
        }
      ],
      "source": [
        "# code that defines two sets of integers. Then print the union, intersection and difference of these two sets\n",
        "# created to data_set\n",
        "# used union operator '|'\n",
        "# used intersection operator '&'\n",
        "# used difference operator \"-\" to get the output result\n",
        "\n",
        "\n",
        "def main_output():\n",
        "\n",
        "    data1 = {1, 2, 3, 4, 5, 9, 10, 15, 20}\n",
        "    data2 = {4, 5, 6, 7, 8, 25, 10, 30, 35}\n",
        "\n",
        "\n",
        "    union = data1 | data2\n",
        "\n",
        "\n",
        "    intersection = data1 & data2\n",
        "\n",
        "\n",
        "    difference = data1 - data2\n",
        "\n",
        "    # Print the results\n",
        "    print(\"Data_Set 1:\", data1)\n",
        "    print(\"Data_Set 2:\", data2)\n",
        "    print(\"Union of the two Data_sets:\", union)\n",
        "    print(\"Intersection of the two Data_sets:\", intersection)\n",
        "    print(\"Difference of the two sets (Data_Set 1 - Data_Set 2):\", difference)\n",
        "\n",
        "if __name__ == \"__main__\":\n",
        "    main_output()\n"
      ]
    },
    {
      "cell_type": "markdown",
      "metadata": {
        "id": "EiO4caaMk5cx"
      },
      "source": [
        "# Answer 29 :- Code that take tuple and an element as input. The function should return the count of occurrences of the given elements in the tuples"
      ]
    },
    {
      "cell_type": "code",
      "execution_count": 38,
      "metadata": {
        "id": "lmh6CFkwj8F1",
        "colab": {
          "base_uri": "https://localhost:8080/"
        },
        "outputId": "6343043c-adea-47cf-8fe6-b347d569ca9d"
      },
      "outputs": [
        {
          "output_type": "stream",
          "name": "stdout",
          "text": [
            "Enter a tuple of elements separated by commas : 1, 2, 5, 4, 3, 7, 9 7, 10, 7, 11, 7\n",
            "Enter the element to count occurrences of: 7\n",
            "Count of occurrences of '7': 0\n"
          ]
        }
      ],
      "source": [
        "# code that take tuple and an element as input. The function should return the count of occurrences of the given elements in the tuples\n",
        "# used def to create function\n",
        "# used input function to take input from users\n",
        "\n",
        "\n",
        "def count_occurrences(tup, element):\n",
        "\n",
        "  return tup.count(element)\n",
        "\n",
        "def main_output():\n",
        "\n",
        "    user_input = input(\"Enter a tuple of elements separated by commas : \")\n",
        "\n",
        "    elements = tuple(user_input.split(','))\n",
        "\n",
        "    element = input(\"Enter the element to count occurrences of: \")\n",
        "\n",
        "    count = count_occurrences(elements, element)\n",
        "\n",
        "    print(f\"Count of occurrences of '{element}':\", count)\n",
        "\n",
        "if __name__ == \"__main__\":\n",
        "    main_output()"
      ]
    },
    {
      "cell_type": "markdown",
      "metadata": {
        "id": "09Qh8KVnlVG1"
      },
      "source": [
        "# Answer 30 :- Code that prompts the user to input two sets of string. Then print the symmetric defference of these two sets"
      ]
    },
    {
      "cell_type": "code",
      "execution_count": 39,
      "metadata": {
        "id": "4gr05PX6j8A1",
        "colab": {
          "base_uri": "https://localhost:8080/"
        },
        "outputId": "7a8cc939-78a8-464c-a2f7-a3d1ddde861b"
      },
      "outputs": [
        {
          "output_type": "stream",
          "name": "stdout",
          "text": [
            "Enter the 1st set of strings separated by commas: apple, oranges, banana, mango\n",
            "Enter the 2nd set of strings separated by commas: mango, black, apple, blue\n",
            "Symmetric difference of the two sets: {'banana', 'black', 'blue', 'oranges'}\n"
          ]
        }
      ],
      "source": [
        "# Develope the code that prompts the user to input two sets of string. Then print the symmetric defference of these two sets\n",
        "# used def to create function\n",
        "# used set, strip, in and split fuction to get data\n",
        "# used symmetric function '^' to get the result\n",
        "\n",
        "\n",
        "def main_output():\n",
        "\n",
        "  first_input = input(\"Enter the 1st set of strings separated by commas: \")\n",
        "  data1 = set(s.strip() for s in first_input.split(','))\n",
        "\n",
        "  second_input = input(\"Enter the 2nd set of strings separated by commas: \")\n",
        "  data2 = set(s.strip() for s in second_input.split(','))\n",
        "\n",
        "  symmetric_difference = data1 ^ data2\n",
        "\n",
        "  print(\"Symmetric difference of the two sets:\", symmetric_difference)\n",
        "\n",
        "if __name__ == \"__main__\":\n",
        "  main_output()"
      ]
    },
    {
      "cell_type": "markdown",
      "metadata": {
        "id": "OJtkIzNultIq"
      },
      "source": [
        "# Answer 31 :- Code that takes a list of words as input and returns a dictionary where keys are unique words and values are the frequencies of those words in the input list"
      ]
    },
    {
      "cell_type": "code",
      "execution_count": 41,
      "metadata": {
        "id": "VEAg97IXuoYJ",
        "colab": {
          "base_uri": "https://localhost:8080/"
        },
        "outputId": "7e88b52c-7522-48ec-b8ca-32ed7dd6fe92"
      },
      "outputs": [
        {
          "output_type": "stream",
          "name": "stdout",
          "text": [
            "Enter a list of words separated by commas : Apple, Oil, Shoes, Bag, Apple, Apple, Bag, mango, mango, mango, oil\n",
            "Word dictionary: {'oil': 1, 'Bag': 2, 'Oil': 1, 'Shoes': 1, 'mango': 3, 'Apple': 3}\n"
          ]
        }
      ],
      "source": [
        "# Write a code that takes a list of words as input and returns a dictionary where keys are unique words and values are the frequencies of those words in the input list ?\n",
        "# Used def to create function\n",
        "# used input fuction to get input from the users\n",
        "# use in, split function to get the list\n",
        "# then, used dictionary  format to get the result in it.\n",
        "\n",
        "\n",
        "def main_output():\n",
        "\n",
        "    user_input = input(\"Enter a list of words separated by commas : \")\n",
        "\n",
        "    word_list = [word.strip() for word in user_input.split(',')]\n",
        "\n",
        "    word_dictionary = {word: word_list.count(word) for word in set(word_list)}\n",
        "\n",
        "    print(\"Word dictionary:\", word_dictionary)\n",
        "\n",
        "if __name__ == \"__main__\":\n",
        "    main_output()\n",
        "\n"
      ]
    },
    {
      "cell_type": "markdown",
      "metadata": {
        "id": "rI05kqohmTlz"
      },
      "source": [
        "# Answer 32 :- Code that take two dictionaries as input and merge them into a single dictionary. If there are common keys, the values should be added together"
      ]
    },
    {
      "cell_type": "code",
      "execution_count": 57,
      "metadata": {
        "id": "YYPdvJUNj73J",
        "colab": {
          "base_uri": "https://localhost:8080/"
        },
        "outputId": "c1adf0fb-def7-4464-f42d-8286c7fd942d"
      },
      "outputs": [
        {
          "output_type": "stream",
          "name": "stdout",
          "text": [
            "Enter the first dictionary : {'a': 1, 'b': 2, 'c': 4, 'd':9}  \n",
            "Enter the second dictionary : {'x': 6, 'y' : 4, 'z' : 10,  'c' : 8}\n",
            "Merged dictionary: {'d': 9, 'z': 10, 'b': 2, 'x': 6, 'y': 4, 'c': 12, 'a': 1}\n"
          ]
        }
      ],
      "source": [
        "# Write a code that take two dictionaries as input and merge them into a single dictionary. If there are common keys, the values should be added together\n",
        "# used def to create function for dictionary data\n",
        "# used key as key variable and value as value variable\n",
        "# used input to get input from user\n",
        "\n",
        "def two_dictionaries(d1, d2):\n",
        "\n",
        "    merged_dict = {key: d1.get(key, 0) + d2.get(key, 0) for key in set(d1) | set(d2)}\n",
        "\n",
        "    return merged_dict\n",
        "\n",
        "def main_output():\n",
        "\n",
        "    d1_input = input(\"Enter the first dictionary : \")\n",
        "    d1 = eval(d1_input)\n",
        "\n",
        "\n",
        "    d2_input = input(\"Enter the second dictionary : \")\n",
        "    d2 = eval(d2_input)\n",
        "\n",
        "\n",
        "    merged_dict = two_dictionaries(d1, d2)\n",
        "\n",
        "\n",
        "    print(\"Merged dictionary:\", merged_dict)\n",
        "\n",
        "if __name__ == \"__main__\":\n",
        "    main_output()\n"
      ]
    },
    {
      "cell_type": "markdown",
      "metadata": {
        "id": "LjPD0bcemvJG"
      },
      "source": [
        "# Answer 33 :- Code to access a value in nested dictionary. The function should take the dictionary and a list of keys as input, and return the corresponding value. If any of the keys do not exist in the dictionary , The function should return none"
      ]
    },
    {
      "cell_type": "code",
      "execution_count": 47,
      "metadata": {
        "id": "L_sUj9n1j7x6",
        "colab": {
          "base_uri": "https://localhost:8080/"
        },
        "outputId": "ddeab639-143c-4160-a901-41042d2f0780"
      },
      "outputs": [
        {
          "output_type": "stream",
          "name": "stdout",
          "text": [
            "Enter the list of keys separated by commas : x, y, z\n",
            "The value at the given keys is: 20\n"
          ]
        }
      ],
      "source": [
        "# did some research for this\n",
        "# used def to create function\n",
        "# used for, if, else loop to creat nested dictionary\n",
        "# then again used def function with input function for the result\n",
        "\n",
        "def nested_value(nested_dict, keys):\n",
        "\n",
        "    current_level = nested_dict\n",
        "    for key in keys:\n",
        "        if isinstance(current_level, dict) and key in current_level:\n",
        "            current_level = current_level[key]\n",
        "        else:\n",
        "            return None\n",
        "    return current_level\n",
        "\n",
        "def main():\n",
        "\n",
        "    nested_dict = {\n",
        "        'a': {\n",
        "            'b': {\n",
        "                'c': 10\n",
        "            }\n",
        "        },\n",
        "        'x': {\n",
        "            'y': {\n",
        "                'z': 20\n",
        "            }\n",
        "        }\n",
        "    }\n",
        "\n",
        "\n",
        "    keys_input = input(\"Enter the list of keys separated by commas : \")\n",
        "    keys = [key.strip() for key in keys_input.split(',')]\n",
        "\n",
        "\n",
        "    value = nested_value(nested_dict, keys)\n",
        "\n",
        "    if value is not None:\n",
        "        print(\"The value at the given keys is:\", value)\n",
        "    else:\n",
        "        print(\"None: One or more keys do not exist.\")\n",
        "\n",
        "if __name__ == \"__main__\":\n",
        "    main()\n"
      ]
    },
    {
      "cell_type": "code",
      "source": [
        "# did some research for this\n",
        "# used def to create function\n",
        "# used for, if, else loop to creat nested dictionary\n",
        "# then again used def function with input function for the result\n",
        "\n",
        "def nested_value(nested_dict, keys):\n",
        "\n",
        "    current_level = nested_dict\n",
        "    for key in keys:\n",
        "        if isinstance(current_level, dict) and key in current_level:\n",
        "            current_level = current_level[key]\n",
        "        else:\n",
        "            return None\n",
        "    return current_level\n",
        "\n",
        "def main():\n",
        "\n",
        "    nested_dict = {\n",
        "        'a': {\n",
        "            'b': {\n",
        "                'c': 10\n",
        "            }\n",
        "        },\n",
        "        'x': {\n",
        "            'y': {\n",
        "                'z': 20\n",
        "            }\n",
        "        }\n",
        "    }\n",
        "\n",
        "\n",
        "    keys_input = input(\"Enter the list of keys separated by commas : \")\n",
        "    keys = [key.strip() for key in keys_input.split(',')]\n",
        "\n",
        "\n",
        "    value = nested_value(nested_dict, keys)\n",
        "\n",
        "    if value is not None:\n",
        "        print(\"The value at the given keys is:\", value)\n",
        "    else:\n",
        "        print(\"None: One or more keys do not exist.\")\n",
        "\n",
        "if __name__ == \"__main__\":\n",
        "    main()\n"
      ],
      "metadata": {
        "colab": {
          "base_uri": "https://localhost:8080/"
        },
        "id": "k5jXm0Yp_Sxl",
        "outputId": "3c73b1ed-75d7-42d2-de38-9bf3350b47ac"
      },
      "execution_count": 48,
      "outputs": [
        {
          "output_type": "stream",
          "name": "stdout",
          "text": [
            "Enter the list of keys separated by commas : d, e, f, \n",
            "None: One or more keys do not exist.\n"
          ]
        }
      ]
    },
    {
      "cell_type": "markdown",
      "metadata": {
        "id": "7jydh95lnhbR"
      },
      "source": [
        "# Answer 34 :- Code that take a dictionary as input and returns a sorted version of it based on the values. You ca choose whether to sort in ascending or descending order"
      ]
    },
    {
      "cell_type": "code",
      "execution_count": 53,
      "metadata": {
        "id": "vvIKObaxj7s5",
        "colab": {
          "base_uri": "https://localhost:8080/"
        },
        "outputId": "b104d15c-1326-4651-c4a9-6e59cd7878ba"
      },
      "outputs": [
        {
          "output_type": "stream",
          "name": "stdout",
          "text": [
            "Enter 'asc' for ascending or 'desc' for descending: d\n",
            "Sorted dictionary: {'f': 8, 'e': 5, 'a': 3, 'c': 2, 'b': 1}\n"
          ]
        }
      ],
      "source": [
        "# did some research for this\n",
        "# used def to create function\n",
        "# used sorted function to get the value in ascending or descending order\n",
        "# then again used def function with input function for the result\n",
        "\n",
        "\n",
        "def sort_dictionary_by_values(d, ascending=True):\n",
        "\n",
        "    sorted_items = sorted(d.items(), key=lambda item: item[1], reverse=not ascending)\n",
        "\n",
        "\n",
        "    return dict(sorted_items)\n",
        "\n",
        "def main():\n",
        "\n",
        "    d = {'a': 3, 'b': 1, 'c': 2, 'e':5, 'f':8}\n",
        "\n",
        "\n",
        "    order = input(\"Enter 'asc' for ascending or 'desc' for descending: \").strip().lower()\n",
        "    ascending = order == 'asc'\n",
        "\n",
        "\n",
        "    sorted_dict = sort_dictionary_by_values(d, ascending)\n",
        "\n",
        "\n",
        "    print(\"Sorted dictionary:\", sorted_dict)\n",
        "\n",
        "if __name__ == \"__main__\":\n",
        "    main()\n"
      ]
    },
    {
      "cell_type": "markdown",
      "metadata": {
        "id": "3P6pXMlxoBKw"
      },
      "source": [
        "# Answer 35 :- Code that inverts a dictionary, swapping keys and values. Ensure that the inverted dictionary correctly handles cases where multiple keys have the same value by sorting the keys as a list in the inverted dictionary"
      ]
    },
    {
      "cell_type": "code",
      "execution_count": 54,
      "metadata": {
        "id": "Z40D5ii3opJW",
        "colab": {
          "base_uri": "https://localhost:8080/"
        },
        "outputId": "e30fa334-2177-42a6-ec2d-c2f130318d19"
      },
      "outputs": [
        {
          "output_type": "stream",
          "name": "stdout",
          "text": [
            "Inverted dictionary: {1: ['a', 'c'], 2: ['b', 'e'], 3: ['d'], 9: ['f'], 10: ['g']}\n"
          ]
        }
      ],
      "source": [
        "# did some research for this\n",
        "# used def to create function\n",
        "# used for, if, else function\n",
        "# then again used def function with input function for the result\n",
        "# created a dictionary 'd' with some values for the inverts.\n",
        "\n",
        "\n",
        "def invert_dictionary(d):\n",
        "\n",
        "    inverted_dict = {}\n",
        "\n",
        "    for key, value in d.items():\n",
        "        if value in inverted_dict:\n",
        "\n",
        "            inverted_dict[value].append(key)\n",
        "        else:\n",
        "\n",
        "            inverted_dict[value] = [key]\n",
        "\n",
        "\n",
        "    for value in inverted_dict:\n",
        "        inverted_dict[value].sort()\n",
        "\n",
        "    return inverted_dict\n",
        "\n",
        "def main():\n",
        "\n",
        "    d = {'a': 1, 'b': 2, 'c': 1, 'd': 3, 'e': 2, 'f': 9, 'g': 10}\n",
        "\n",
        "    inverted_dict = invert_dictionary(d)\n",
        "\n",
        "\n",
        "    print(\"Inverted dictionary:\", inverted_dict)\n",
        "\n",
        "if __name__ == \"__main__\":\n",
        "    main()\n"
      ]
    },
    {
      "cell_type": "code",
      "execution_count": null,
      "metadata": {
        "id": "hYppviZRj7oN"
      },
      "outputs": [],
      "source": []
    }
  ],
  "metadata": {
    "colab": {
      "provenance": []
    },
    "kernelspec": {
      "display_name": "Python 3",
      "name": "python3"
    },
    "language_info": {
      "name": "python"
    }
  },
  "nbformat": 4,
  "nbformat_minor": 0
}